{
 "cells": [
  {
   "cell_type": "markdown",
   "id": "9f5f4cdd",
   "metadata": {},
   "source": [
    "## Forecasting House Prices using multiple regression model \n",
    "\n",
    "#### Assignment I\n",
    "\n",
    "#### By Mohammadreza Arabshahi"
   ]
  },
  {
   "cell_type": "code",
   "execution_count": 7,
   "id": "d14ff733",
   "metadata": {},
   "outputs": [],
   "source": [
    "import pandas as pd\n",
    "import numpy as np \n",
    "import pylab as pl\n",
    "import matplotlib.pyplot as plt\n",
    "import seaborn as sb\n",
    "%matplotlib inline"
   ]
  },
  {
   "cell_type": "code",
   "execution_count": 8,
   "id": "01cd65d2",
   "metadata": {},
   "outputs": [],
   "source": [
    "dtype_dict = {'bathrooms':float, 'waterfront':int, 'sqft_above':int, 'sqft_living15':float, 'grade':int, 'yr_renovated':int, 'price':float, 'bedrooms':float, 'zipcode':str, 'long':float, 'sqft_lot15':float, 'sqft_living':float, 'floors':str, 'condition':int, 'lat':float, 'date':str, 'sqft_basement':int, 'yr_built':int, 'id':str, 'sqft_lot':int, 'view':int}"
   ]
  },
  {
   "cell_type": "code",
   "execution_count": 9,
   "id": "dc4f09a8",
   "metadata": {},
   "outputs": [],
   "source": [
    "House_Sales_data = pd.read_excel(\"C:\\\\Users\\\\Mohammad Reza\\\\Desktop\\\\Corsera\\\\Machine Learning-Regression\\\\W2\\\\6. Assignments\\\\1\\\\kc_house_data.xlsx\")"
   ]
  },
  {
   "cell_type": "code",
   "execution_count": 10,
   "id": "1b51f806",
   "metadata": {},
   "outputs": [],
   "source": [
    "House_Sales_testdata = pd.read_excel(\"C:\\\\Users\\\\Mohammad Reza\\\\Desktop\\\\Corsera\\\\Machine Learning-Regression\\\\W2\\\\6. Assignments\\\\1\\\\kc_house_test_data.xlsx\")\n",
    "#House_Sales_testdata"
   ]
  },
  {
   "cell_type": "code",
   "execution_count": 11,
   "id": "5c19b554",
   "metadata": {},
   "outputs": [],
   "source": [
    "House_Sales_trainingdata = pd.read_excel(\"C:\\\\Users\\\\Mohammad Reza\\\\Desktop\\\\Corsera\\\\Machine Learning-Regression\\\\W2\\\\6. Assignments\\\\1\\\\kc_house_train_data.xlsx\")\n",
    "#House_Sales_trainingdata"
   ]
  },
  {
   "cell_type": "markdown",
   "id": "7139c020",
   "metadata": {},
   "source": [
    "## Adding New Features to our test data"
   ]
  },
  {
   "cell_type": "code",
   "execution_count": 12,
   "id": "72a72b04",
   "metadata": {},
   "outputs": [
    {
     "data": {
      "text/html": [
       "<div>\n",
       "<style scoped>\n",
       "    .dataframe tbody tr th:only-of-type {\n",
       "        vertical-align: middle;\n",
       "    }\n",
       "\n",
       "    .dataframe tbody tr th {\n",
       "        vertical-align: top;\n",
       "    }\n",
       "\n",
       "    .dataframe thead th {\n",
       "        text-align: right;\n",
       "    }\n",
       "</style>\n",
       "<table border=\"1\" class=\"dataframe\">\n",
       "  <thead>\n",
       "    <tr style=\"text-align: right;\">\n",
       "      <th></th>\n",
       "      <th>id</th>\n",
       "      <th>date</th>\n",
       "      <th>price</th>\n",
       "      <th>bedrooms</th>\n",
       "      <th>bathrooms</th>\n",
       "      <th>sqft_living</th>\n",
       "      <th>sqft_lot</th>\n",
       "      <th>floors</th>\n",
       "      <th>waterfront</th>\n",
       "      <th>view</th>\n",
       "      <th>...</th>\n",
       "      <th>yr_renovated</th>\n",
       "      <th>zipcode</th>\n",
       "      <th>lat</th>\n",
       "      <th>long</th>\n",
       "      <th>sqft_living15</th>\n",
       "      <th>sqft_lot15</th>\n",
       "      <th>bedrooms_squared</th>\n",
       "      <th>bed_bath_rooms</th>\n",
       "      <th>log_sqft_living</th>\n",
       "      <th>lat_plus_long</th>\n",
       "    </tr>\n",
       "  </thead>\n",
       "  <tbody>\n",
       "    <tr>\n",
       "      <th>0</th>\n",
       "      <td>114101516</td>\n",
       "      <td>20140528T000000</td>\n",
       "      <td>310000</td>\n",
       "      <td>3</td>\n",
       "      <td>1.00</td>\n",
       "      <td>1430</td>\n",
       "      <td>19901</td>\n",
       "      <td>1.5</td>\n",
       "      <td>0</td>\n",
       "      <td>0</td>\n",
       "      <td>...</td>\n",
       "      <td>0</td>\n",
       "      <td>98028</td>\n",
       "      <td>47.7558</td>\n",
       "      <td>-122.229</td>\n",
       "      <td>1780</td>\n",
       "      <td>12697</td>\n",
       "      <td>9</td>\n",
       "      <td>3.00</td>\n",
       "      <td>7.265430</td>\n",
       "      <td>-74.4732</td>\n",
       "    </tr>\n",
       "    <tr>\n",
       "      <th>1</th>\n",
       "      <td>9297300055</td>\n",
       "      <td>20150124T000000</td>\n",
       "      <td>650000</td>\n",
       "      <td>4</td>\n",
       "      <td>3.00</td>\n",
       "      <td>2950</td>\n",
       "      <td>5000</td>\n",
       "      <td>2.0</td>\n",
       "      <td>0</td>\n",
       "      <td>3</td>\n",
       "      <td>...</td>\n",
       "      <td>0</td>\n",
       "      <td>98126</td>\n",
       "      <td>47.5714</td>\n",
       "      <td>-122.375</td>\n",
       "      <td>2140</td>\n",
       "      <td>4000</td>\n",
       "      <td>16</td>\n",
       "      <td>12.00</td>\n",
       "      <td>7.989560</td>\n",
       "      <td>-74.8036</td>\n",
       "    </tr>\n",
       "    <tr>\n",
       "      <th>2</th>\n",
       "      <td>1202000200</td>\n",
       "      <td>20141103T000000</td>\n",
       "      <td>233000</td>\n",
       "      <td>3</td>\n",
       "      <td>2.00</td>\n",
       "      <td>1710</td>\n",
       "      <td>4697</td>\n",
       "      <td>1.5</td>\n",
       "      <td>0</td>\n",
       "      <td>0</td>\n",
       "      <td>...</td>\n",
       "      <td>0</td>\n",
       "      <td>98002</td>\n",
       "      <td>47.3048</td>\n",
       "      <td>-122.218</td>\n",
       "      <td>1030</td>\n",
       "      <td>4705</td>\n",
       "      <td>9</td>\n",
       "      <td>6.00</td>\n",
       "      <td>7.444249</td>\n",
       "      <td>-74.9132</td>\n",
       "    </tr>\n",
       "    <tr>\n",
       "      <th>3</th>\n",
       "      <td>8562750320</td>\n",
       "      <td>20141110T000000</td>\n",
       "      <td>580500</td>\n",
       "      <td>3</td>\n",
       "      <td>2.50</td>\n",
       "      <td>2320</td>\n",
       "      <td>3980</td>\n",
       "      <td>2.0</td>\n",
       "      <td>0</td>\n",
       "      <td>0</td>\n",
       "      <td>...</td>\n",
       "      <td>0</td>\n",
       "      <td>98027</td>\n",
       "      <td>47.5391</td>\n",
       "      <td>-122.070</td>\n",
       "      <td>2580</td>\n",
       "      <td>3980</td>\n",
       "      <td>9</td>\n",
       "      <td>7.50</td>\n",
       "      <td>7.749322</td>\n",
       "      <td>-74.5309</td>\n",
       "    </tr>\n",
       "    <tr>\n",
       "      <th>4</th>\n",
       "      <td>7589200193</td>\n",
       "      <td>20141110T000000</td>\n",
       "      <td>535000</td>\n",
       "      <td>3</td>\n",
       "      <td>1.00</td>\n",
       "      <td>1090</td>\n",
       "      <td>3000</td>\n",
       "      <td>1.5</td>\n",
       "      <td>0</td>\n",
       "      <td>0</td>\n",
       "      <td>...</td>\n",
       "      <td>0</td>\n",
       "      <td>98117</td>\n",
       "      <td>47.6889</td>\n",
       "      <td>-122.375</td>\n",
       "      <td>1570</td>\n",
       "      <td>5080</td>\n",
       "      <td>9</td>\n",
       "      <td>3.00</td>\n",
       "      <td>6.993933</td>\n",
       "      <td>-74.6861</td>\n",
       "    </tr>\n",
       "    <tr>\n",
       "      <th>...</th>\n",
       "      <td>...</td>\n",
       "      <td>...</td>\n",
       "      <td>...</td>\n",
       "      <td>...</td>\n",
       "      <td>...</td>\n",
       "      <td>...</td>\n",
       "      <td>...</td>\n",
       "      <td>...</td>\n",
       "      <td>...</td>\n",
       "      <td>...</td>\n",
       "      <td>...</td>\n",
       "      <td>...</td>\n",
       "      <td>...</td>\n",
       "      <td>...</td>\n",
       "      <td>...</td>\n",
       "      <td>...</td>\n",
       "      <td>...</td>\n",
       "      <td>...</td>\n",
       "      <td>...</td>\n",
       "      <td>...</td>\n",
       "      <td>...</td>\n",
       "    </tr>\n",
       "    <tr>\n",
       "      <th>4224</th>\n",
       "      <td>8672200110</td>\n",
       "      <td>20150317T000000</td>\n",
       "      <td>1088000</td>\n",
       "      <td>5</td>\n",
       "      <td>3.75</td>\n",
       "      <td>4170</td>\n",
       "      <td>8142</td>\n",
       "      <td>2.0</td>\n",
       "      <td>0</td>\n",
       "      <td>2</td>\n",
       "      <td>...</td>\n",
       "      <td>0</td>\n",
       "      <td>98056</td>\n",
       "      <td>47.5354</td>\n",
       "      <td>-122.181</td>\n",
       "      <td>3030</td>\n",
       "      <td>7980</td>\n",
       "      <td>25</td>\n",
       "      <td>18.75</td>\n",
       "      <td>8.335671</td>\n",
       "      <td>-74.6456</td>\n",
       "    </tr>\n",
       "    <tr>\n",
       "      <th>4225</th>\n",
       "      <td>5087900040</td>\n",
       "      <td>20141017T000000</td>\n",
       "      <td>350000</td>\n",
       "      <td>4</td>\n",
       "      <td>2.75</td>\n",
       "      <td>2500</td>\n",
       "      <td>5995</td>\n",
       "      <td>2.0</td>\n",
       "      <td>0</td>\n",
       "      <td>0</td>\n",
       "      <td>...</td>\n",
       "      <td>0</td>\n",
       "      <td>98042</td>\n",
       "      <td>47.3749</td>\n",
       "      <td>-122.107</td>\n",
       "      <td>2530</td>\n",
       "      <td>5988</td>\n",
       "      <td>16</td>\n",
       "      <td>11.00</td>\n",
       "      <td>7.824046</td>\n",
       "      <td>-74.7321</td>\n",
       "    </tr>\n",
       "    <tr>\n",
       "      <th>4226</th>\n",
       "      <td>3448900210</td>\n",
       "      <td>20141014T000000</td>\n",
       "      <td>610685</td>\n",
       "      <td>4</td>\n",
       "      <td>2.50</td>\n",
       "      <td>2520</td>\n",
       "      <td>6023</td>\n",
       "      <td>2.0</td>\n",
       "      <td>0</td>\n",
       "      <td>0</td>\n",
       "      <td>...</td>\n",
       "      <td>0</td>\n",
       "      <td>98056</td>\n",
       "      <td>47.5137</td>\n",
       "      <td>-122.167</td>\n",
       "      <td>2520</td>\n",
       "      <td>6023</td>\n",
       "      <td>16</td>\n",
       "      <td>10.00</td>\n",
       "      <td>7.832014</td>\n",
       "      <td>-74.6533</td>\n",
       "    </tr>\n",
       "    <tr>\n",
       "      <th>4227</th>\n",
       "      <td>6600060120</td>\n",
       "      <td>20150223T000000</td>\n",
       "      <td>400000</td>\n",
       "      <td>4</td>\n",
       "      <td>2.50</td>\n",
       "      <td>2310</td>\n",
       "      <td>5813</td>\n",
       "      <td>2.0</td>\n",
       "      <td>0</td>\n",
       "      <td>0</td>\n",
       "      <td>...</td>\n",
       "      <td>0</td>\n",
       "      <td>98146</td>\n",
       "      <td>47.5107</td>\n",
       "      <td>-122.362</td>\n",
       "      <td>1830</td>\n",
       "      <td>7200</td>\n",
       "      <td>16</td>\n",
       "      <td>10.00</td>\n",
       "      <td>7.745003</td>\n",
       "      <td>-74.8513</td>\n",
       "    </tr>\n",
       "    <tr>\n",
       "      <th>4228</th>\n",
       "      <td>1523300141</td>\n",
       "      <td>20140623T000000</td>\n",
       "      <td>402101</td>\n",
       "      <td>2</td>\n",
       "      <td>0.75</td>\n",
       "      <td>1020</td>\n",
       "      <td>1350</td>\n",
       "      <td>2.0</td>\n",
       "      <td>0</td>\n",
       "      <td>0</td>\n",
       "      <td>...</td>\n",
       "      <td>0</td>\n",
       "      <td>98144</td>\n",
       "      <td>47.5944</td>\n",
       "      <td>-122.299</td>\n",
       "      <td>1020</td>\n",
       "      <td>2007</td>\n",
       "      <td>4</td>\n",
       "      <td>1.50</td>\n",
       "      <td>6.927558</td>\n",
       "      <td>-74.7046</td>\n",
       "    </tr>\n",
       "  </tbody>\n",
       "</table>\n",
       "<p>4229 rows × 25 columns</p>\n",
       "</div>"
      ],
      "text/plain": [
       "              id             date    price  bedrooms  bathrooms  sqft_living  \\\n",
       "0      114101516  20140528T000000   310000         3       1.00         1430   \n",
       "1     9297300055  20150124T000000   650000         4       3.00         2950   \n",
       "2     1202000200  20141103T000000   233000         3       2.00         1710   \n",
       "3     8562750320  20141110T000000   580500         3       2.50         2320   \n",
       "4     7589200193  20141110T000000   535000         3       1.00         1090   \n",
       "...          ...              ...      ...       ...        ...          ...   \n",
       "4224  8672200110  20150317T000000  1088000         5       3.75         4170   \n",
       "4225  5087900040  20141017T000000   350000         4       2.75         2500   \n",
       "4226  3448900210  20141014T000000   610685         4       2.50         2520   \n",
       "4227  6600060120  20150223T000000   400000         4       2.50         2310   \n",
       "4228  1523300141  20140623T000000   402101         2       0.75         1020   \n",
       "\n",
       "      sqft_lot  floors  waterfront  view  ...  yr_renovated  zipcode      lat  \\\n",
       "0        19901     1.5           0     0  ...             0    98028  47.7558   \n",
       "1         5000     2.0           0     3  ...             0    98126  47.5714   \n",
       "2         4697     1.5           0     0  ...             0    98002  47.3048   \n",
       "3         3980     2.0           0     0  ...             0    98027  47.5391   \n",
       "4         3000     1.5           0     0  ...             0    98117  47.6889   \n",
       "...        ...     ...         ...   ...  ...           ...      ...      ...   \n",
       "4224      8142     2.0           0     2  ...             0    98056  47.5354   \n",
       "4225      5995     2.0           0     0  ...             0    98042  47.3749   \n",
       "4226      6023     2.0           0     0  ...             0    98056  47.5137   \n",
       "4227      5813     2.0           0     0  ...             0    98146  47.5107   \n",
       "4228      1350     2.0           0     0  ...             0    98144  47.5944   \n",
       "\n",
       "         long  sqft_living15  sqft_lot15  bedrooms_squared  bed_bath_rooms  \\\n",
       "0    -122.229           1780       12697                 9            3.00   \n",
       "1    -122.375           2140        4000                16           12.00   \n",
       "2    -122.218           1030        4705                 9            6.00   \n",
       "3    -122.070           2580        3980                 9            7.50   \n",
       "4    -122.375           1570        5080                 9            3.00   \n",
       "...       ...            ...         ...               ...             ...   \n",
       "4224 -122.181           3030        7980                25           18.75   \n",
       "4225 -122.107           2530        5988                16           11.00   \n",
       "4226 -122.167           2520        6023                16           10.00   \n",
       "4227 -122.362           1830        7200                16           10.00   \n",
       "4228 -122.299           1020        2007                 4            1.50   \n",
       "\n",
       "      log_sqft_living  lat_plus_long  \n",
       "0            7.265430       -74.4732  \n",
       "1            7.989560       -74.8036  \n",
       "2            7.444249       -74.9132  \n",
       "3            7.749322       -74.5309  \n",
       "4            6.993933       -74.6861  \n",
       "...               ...            ...  \n",
       "4224         8.335671       -74.6456  \n",
       "4225         7.824046       -74.7321  \n",
       "4226         7.832014       -74.6533  \n",
       "4227         7.745003       -74.8513  \n",
       "4228         6.927558       -74.7046  \n",
       "\n",
       "[4229 rows x 25 columns]"
      ]
     },
     "execution_count": 12,
     "metadata": {},
     "output_type": "execute_result"
    }
   ],
   "source": [
    "House_Sales_testdata['bedrooms_squared'] = House_Sales_testdata['bedrooms'] * House_Sales_testdata['bedrooms']\n",
    "\n",
    "House_Sales_testdata['bed_bath_rooms'] = House_Sales_testdata['bedrooms'] * House_Sales_testdata['bathrooms']\n",
    "\n",
    "House_Sales_testdata['log_sqft_living']= np.log(House_Sales_testdata['sqft_living'])\n",
    "\n",
    "House_Sales_testdata\n",
    "\n",
    "House_Sales_testdata['lat_plus_long'] =  House_Sales_testdata['lat'] + House_Sales_testdata['long']\n",
    "\n",
    "House_Sales_testdata\n"
   ]
  },
  {
   "cell_type": "markdown",
   "id": "622a3552",
   "metadata": {},
   "source": [
    "### Adding new features to training data"
   ]
  },
  {
   "cell_type": "code",
   "execution_count": null,
   "id": "022919f6",
   "metadata": {},
   "outputs": [],
   "source": [
    "House_Sales_trainingdata['bedrooms_squared'] = House_Sales_trainingdata['bedrooms'] * House_Sales_trainingdata['bedrooms']\n",
    "\n",
    "House_Sales_trainingdata['bed_bath_rooms'] = House_Sales_trainingdata['bedrooms'] * House_Sales_trainingdata['bathrooms']\n",
    "\n",
    "House_Sales_trainingdata['log_sqft_living']= np.log(House_Sales_trainingdata['sqft_living'])\n",
    "\n",
    "House_Sales_trainingdata['lat_plus_long'] =  House_Sales_trainingdata['lat'] + House_Sales_trainingdata['long']\n",
    "\n",
    "House_Sales_trainingdata"
   ]
  },
  {
   "cell_type": "markdown",
   "id": "3bca8901",
   "metadata": {},
   "source": [
    "#### Average data"
   ]
  },
  {
   "cell_type": "code",
   "execution_count": null,
   "id": "fbcc4d63",
   "metadata": {},
   "outputs": [],
   "source": [
    "mean1 = House_Sales_testdata[\"bedrooms_squared\"].mean()\n",
    "mean2 = House_Sales_testdata[\"bed_bath_rooms\"].mean()\n",
    "mean3 = House_Sales_testdata[\"log_sqft_living\"].mean()\n",
    "mean4 = House_Sales_testdata[\"lat_plus_long\"].mean()\n",
    "print ('bedrooms_squared: ',mean1)\n",
    "print ('bed_bath_rooms: ',mean2)\n",
    "print ('log_sqft_living: ',mean3)\n",
    "print ('lat_plus_long: ',mean4)"
   ]
  },
  {
   "cell_type": "markdown",
   "id": "43b612d1",
   "metadata": {},
   "source": [
    "### Model 1"
   ]
  },
  {
   "cell_type": "code",
   "execution_count": 11,
   "id": "8d10edee",
   "metadata": {
    "scrolled": true
   },
   "outputs": [
    {
     "name": "stdout",
     "output_type": "stream",
     "text": [
      "Coefficients: [[ 3.12258646e+02 -5.95865332e+04  1.57067421e+04  6.58619264e+05\n",
      "  -3.09374351e+05]]\n",
      "Intercept: [-69075726.79256982]\n"
     ]
    }
   ],
   "source": [
    "from sklearn import linear_model\n",
    "regr = linear_model.LinearRegression()\n",
    "train_x = np.asanyarray(House_Sales_trainingdata[['sqft_living','bedrooms','bathrooms','lat','long']])\n",
    "train_y = np.asanyarray(House_Sales_trainingdata[['price']])\n",
    "regr.fit(train_x,train_y)\n",
    "print ('Coefficients:', regr.coef_)\n",
    "print ('Intercept:', regr.intercept_)"
   ]
  },
  {
   "cell_type": "markdown",
   "id": "7ef8aba5",
   "metadata": {},
   "source": [
    "### Train based on training data for model 1"
   ]
  },
  {
   "cell_type": "code",
   "execution_count": 12,
   "id": "d06bc8bf",
   "metadata": {
    "scrolled": true
   },
   "outputs": [
    {
     "name": "stdout",
     "output_type": "stream",
     "text": [
      "Residual sum of Squares: 55676481997.79\n",
      "Variance Score: 0.59\n"
     ]
    }
   ],
   "source": [
    "y_hat1_train = regr.predict(House_Sales_trainingdata[['sqft_living','bedrooms','bathrooms','lat','long']].values)\n",
    "train_x = np.asanyarray(House_Sales_trainingdata[['sqft_living','bedrooms','bathrooms','lat','long']].values)\n",
    "train_y = np.asanyarray(House_Sales_trainingdata[['price']].values)\n",
    "print(\"Residual sum of Squares: %.2f\" % np.mean((y_hat1_train-train_y) ** 2))\n",
    "print(\"Variance Score: %.2f\" % regr.score(train_x,train_y))"
   ]
  },
  {
   "cell_type": "markdown",
   "id": "429e4f54",
   "metadata": {},
   "source": [
    "### Train based on test data for model 1"
   ]
  },
  {
   "cell_type": "code",
   "execution_count": 159,
   "id": "a5f5ef45",
   "metadata": {
    "scrolled": true
   },
   "outputs": [
    {
     "name": "stdout",
     "output_type": "stream",
     "text": [
      "Residual sum of Squares: 53322409504.73\n",
      "Variance Score: 0.58\n"
     ]
    },
    {
     "data": {
      "text/plain": [
       "5"
      ]
     },
     "execution_count": 159,
     "metadata": {},
     "output_type": "execute_result"
    }
   ],
   "source": [
    "y_hat1_test = regr.predict(House_Sales_testdata[['sqft_living','bedrooms','bathrooms','lat','long']].values)\n",
    "train_x = np.asanyarray(House_Sales_testdata[['sqft_living','bedrooms','bathrooms','lat','long']].values)\n",
    "train_y = np.asanyarray(House_Sales_testdata[['price']].values)\n",
    "print(\"Residual sum of Squares: %.2f\" % np.mean((y_hat1_test-train_y) ** 2))\n",
    "print(\"Variance Score: %.2f\" % regr.score(train_x,train_y))\n",
    "\n",
    "House_Sales_trainingdata.bedrooms[50]"
   ]
  },
  {
   "cell_type": "markdown",
   "id": "cbe29c6d",
   "metadata": {},
   "source": [
    "### Plot model 1"
   ]
  },
  {
   "cell_type": "code",
   "execution_count": 14,
   "id": "0b0d1917",
   "metadata": {
    "scrolled": false
   },
   "outputs": [
    {
     "data": {
      "image/png": "[encoded data removed]",
      "text/plain": [
       "<Figure size 640x480 with 5 Axes>"
      ]
     },
     "metadata": {},
     "output_type": "display_data"
    }
   ],
   "source": [
    "fig = plt.figure()\n",
    "ax1 = fig.add_subplot(511) \n",
    "ax1.scatter(House_Sales_trainingdata.sqft_living, House_Sales_trainingdata.price, color='blue')\n",
    "ax1.scatter(House_Sales_testdata.sqft_living, House_Sales_testdata.price, color='red')\n",
    "plt.plot(House_Sales_trainingdata.sqft_living, regr.coef_[0][0]*House_Sales_trainingdata.sqft_living + regr.coef_[0][1]*House_Sales_trainingdata.bedrooms[50] + regr.coef_[0][2]*House_Sales_trainingdata.bathrooms[50] + regr.coef_[0][3]*House_Sales_trainingdata.lat[50] + regr.coef_[0][4]*House_Sales_trainingdata.long[50] + regr.intercept_[0], '-g')\n",
    "\n",
    "ax2 = fig.add_subplot(512) \n",
    "ax2.scatter(House_Sales_trainingdata.bedrooms, House_Sales_trainingdata.price, color='red')\n",
    "plt.plot(House_Sales_trainingdata.bedrooms, regr.coef_[0][0]*House_Sales_trainingdata.sqft_living[50] + regr.coef_[0][1]*House_Sales_trainingdata.bedrooms + regr.coef_[0][2]*House_Sales_trainingdata.bathrooms[50] + regr.coef_[0][3]*House_Sales_trainingdata.lat[50] + regr.coef_[0][4]*House_Sales_trainingdata.long[50] + regr.intercept_[0], '-r')\n",
    "\n",
    "ax3 = fig.add_subplot(513) \n",
    "ax3.scatter(House_Sales_trainingdata.bathrooms, House_Sales_trainingdata.price, color='green')\n",
    "plt.plot(House_Sales_trainingdata.bathrooms, regr.coef_[0][0]*House_Sales_trainingdata.sqft_living[50] + regr.coef_[0][1]*House_Sales_trainingdata.bedrooms[50] + regr.coef_[0][2]*House_Sales_trainingdata.bathrooms + regr.coef_[0][3]*House_Sales_trainingdata.lat[50] + regr.coef_[0][4]*House_Sales_trainingdata.long[50] + regr.intercept_[0], '-r')\n",
    "\n",
    "ax4 = fig.add_subplot(514) \n",
    "ax4.scatter(House_Sales_trainingdata.lat, House_Sales_trainingdata.price, color='black')\n",
    "plt.plot(House_Sales_trainingdata.lat, regr.coef_[0][0]*House_Sales_trainingdata.sqft_living[50] + regr.coef_[0][1]*House_Sales_trainingdata.bedrooms[50] + regr.coef_[0][2]*House_Sales_trainingdata.bathrooms[50] + regr.coef_[0][3]*House_Sales_trainingdata.lat + regr.coef_[0][4]*House_Sales_trainingdata.long[50] + regr.intercept_[0], '-r')\n",
    "\n",
    "ax5 = fig.add_subplot(515) \n",
    "ax5.scatter(House_Sales_trainingdata.long, House_Sales_trainingdata.price, color='blue')\n",
    "plt.plot(House_Sales_trainingdata.long, regr.coef_[0][0]*House_Sales_trainingdata.sqft_living[50] + regr.coef_[0][1]*House_Sales_trainingdata.bedrooms[50] + regr.coef_[0][2]*House_Sales_trainingdata.bathrooms[50] + regr.coef_[0][3]*House_Sales_trainingdata.lat[50] + regr.coef_[0][4]*House_Sales_trainingdata.long + regr.intercept_[0], '-r')\n",
    "\n",
    "\n",
    "plt.show()"
   ]
  },
  {
   "cell_type": "markdown",
   "id": "587408e3",
   "metadata": {},
   "source": [
    "### Model 2"
   ]
  },
  {
   "cell_type": "code",
   "execution_count": 87,
   "id": "a738a437",
   "metadata": {
    "scrolled": true
   },
   "outputs": [
    {
     "name": "stdout",
     "output_type": "stream",
     "text": [
      "Coefficients: [[ 3.06610053e+02 -1.13446368e+05 -7.14613083e+04  6.54844630e+05\n",
      "  -2.94298969e+05  2.55796520e+04]]\n",
      "Intercept: [-66867968.87107886]\n"
     ]
    }
   ],
   "source": [
    "from sklearn import linear_model\n",
    "regr = linear_model.LinearRegression()\n",
    "train_x = np.asanyarray(House_Sales_trainingdata[['sqft_living','bedrooms','bathrooms','lat','long','bed_bath_rooms']])\n",
    "train_y = np.asanyarray(House_Sales_trainingdata[['price']])\n",
    "regr.fit(train_x,train_y)\n",
    "print ('Coefficients:', regr.coef_)\n",
    "print ('Intercept:', regr.intercept_)"
   ]
  },
  {
   "cell_type": "markdown",
   "id": "bce1a0f1",
   "metadata": {},
   "source": [
    "### Train based on training data for model 2"
   ]
  },
  {
   "cell_type": "code",
   "execution_count": 88,
   "id": "6f901599",
   "metadata": {},
   "outputs": [
    {
     "name": "stdout",
     "output_type": "stream",
     "text": [
      "Residual sum of Squares: 55132284576.28\n",
      "Variance Score: 0.60\n"
     ]
    }
   ],
   "source": [
    "y_hat2_train = regr.predict(House_Sales_trainingdata[['sqft_living','bedrooms','bathrooms','lat','long','bed_bath_rooms']].values)\n",
    "train_x = np.asanyarray(House_Sales_trainingdata[['sqft_living','bedrooms','bathrooms','lat','long','bed_bath_rooms']].values)\n",
    "train_y = np.asanyarray(House_Sales_trainingdata[['price']].values)\n",
    "print(\"Residual sum of Squares: %.2f\" % np.mean((y_hat2_train-train_y) ** 2))\n",
    "print(\"Variance Score: %.2f\" % regr.score(train_x,train_y))"
   ]
  },
  {
   "cell_type": "markdown",
   "id": "69aaf0f3",
   "metadata": {},
   "source": [
    "### Train based on test data for model 2"
   ]
  },
  {
   "cell_type": "code",
   "execution_count": 89,
   "id": "562e3394",
   "metadata": {
    "scrolled": true
   },
   "outputs": [
    {
     "name": "stdout",
     "output_type": "stream",
     "text": [
      "Residual sum of Squares: 52820397960.86\n",
      "Variance Score: 0.58\n"
     ]
    }
   ],
   "source": [
    "y_hat2_test = regr.predict(House_Sales_testdata[['sqft_living','bedrooms','bathrooms','lat','long','bed_bath_rooms']].values)\n",
    "train_x = np.asanyarray(House_Sales_testdata[['sqft_living','bedrooms','bathrooms','lat','long','bed_bath_rooms']].values)\n",
    "train_y = np.asanyarray(House_Sales_testdata[['price']].values)\n",
    "print(\"Residual sum of Squares: %.2f\" % np.mean((y_hat2_test-train_y) ** 2))\n",
    "print(\"Variance Score: %.2f\" % regr.score(train_x,train_y))"
   ]
  },
  {
   "cell_type": "markdown",
   "id": "4a368de7",
   "metadata": {},
   "source": [
    "## Model 3"
   ]
  },
  {
   "cell_type": "code",
   "execution_count": 21,
   "id": "037fcf5e",
   "metadata": {},
   "outputs": [
    {
     "name": "stdout",
     "output_type": "stream",
     "text": [
      "Coefficients: [[ 5.29422820e+02  3.45142296e+04  6.70607813e+04  5.34085611e+05\n",
      "  -4.06750711e+05 -8.57050439e+03 -6.78858667e+03 -5.61831484e+05\n",
      "   1.27334900e+05]]\n",
      "Intercept: [-62036084.98609822]\n"
     ]
    },
    {
     "data": {
      "text/plain": [
       "127334.90000645636"
      ]
     },
     "execution_count": 21,
     "metadata": {},
     "output_type": "execute_result"
    }
   ],
   "source": [
    "from sklearn import linear_model\n",
    "regr = linear_model.LinearRegression()\n",
    "train_x = np.asanyarray(House_Sales_trainingdata[['sqft_living','bedrooms','bathrooms','lat','long','bed_bath_rooms','bedrooms_squared','log_sqft_living','lat_plus_long']])\n",
    "train_y = np.asanyarray(House_Sales_trainingdata[['price']])\n",
    "regr.fit(train_x,train_y)\n",
    "print ('Coefficients:', regr.coef_)\n",
    "print ('Intercept:', regr.intercept_)\n",
    "regr.coef_[0][8]"
   ]
  },
  {
   "cell_type": "markdown",
   "id": "08a7ac90",
   "metadata": {},
   "source": [
    "### Train based on training data for model 3"
   ]
  },
  {
   "cell_type": "code",
   "execution_count": 17,
   "id": "1423c291",
   "metadata": {
    "scrolled": true
   },
   "outputs": [
    {
     "name": "stdout",
     "output_type": "stream",
     "text": [
      "Residual sum of Squares: 51969423323.20\n",
      "Variance Score: 0.62\n"
     ]
    }
   ],
   "source": [
    "y_hat3_train = regr.predict(House_Sales_trainingdata[['sqft_living','bedrooms','bathrooms','lat','long','bed_bath_rooms','bedrooms_squared','log_sqft_living','lat_plus_long']].values)\n",
    "train_x = np.asanyarray(House_Sales_trainingdata[['sqft_living','bedrooms','bathrooms','lat','long','bed_bath_rooms','bedrooms_squared','log_sqft_living','lat_plus_long']].values)\n",
    "train_y = np.asanyarray(House_Sales_trainingdata[['price']].values)\n",
    "print(\"Residual sum of Squares: %.2f\" % np.mean((y_hat3_train-train_y) ** 2))\n",
    "print(\"Variance Score: %.2f\" % regr.score(train_x,train_y))"
   ]
  },
  {
   "cell_type": "markdown",
   "id": "23dde300",
   "metadata": {},
   "source": [
    "### Train based on test data for model 3"
   ]
  },
  {
   "cell_type": "code",
   "execution_count": 18,
   "id": "fbbf010a",
   "metadata": {},
   "outputs": [
    {
     "name": "stdout",
     "output_type": "stream",
     "text": [
      "Residual sum of Squares: 61299673494.25\n",
      "Variance Score: 0.52\n"
     ]
    }
   ],
   "source": [
    "y_hat3_test = regr.predict(House_Sales_testdata[['sqft_living','bedrooms','bathrooms','lat','long','bed_bath_rooms','bedrooms_squared','log_sqft_living','lat_plus_long']].values)\n",
    "train_x = np.asanyarray(House_Sales_testdata[['sqft_living','bedrooms','bathrooms','lat','long','bed_bath_rooms','bedrooms_squared','log_sqft_living','lat_plus_long']].values)\n",
    "train_y = np.asanyarray(House_Sales_testdata[['price']].values)\n",
    "print(\"Residual sum of Squares: %.2f\" % np.mean((y_hat3_test-train_y) ** 2))\n",
    "print(\"Variance Score: %.2f\" % regr.score(train_x,train_y))"
   ]
  },
  {
   "cell_type": "markdown",
   "id": "ec295ad8",
   "metadata": {},
   "source": [
    "### Plot model 3\n",
    "\n",
    " \n"
   ]
  },
  {
   "cell_type": "code",
   "execution_count": 26,
   "id": "2ee8ec65",
   "metadata": {},
   "outputs": [
    {
     "data": {
      "image/png": "[encoded data removed]",
      "text/plain": [
       "<Figure size 640x480 with 1 Axes>"
      ]
     },
     "metadata": {},
     "output_type": "display_data"
    }
   ],
   "source": [
    "fig = plt.figure()\n",
    "ax1 = fig.add_subplot(111) \n",
    "ax1.scatter(House_Sales_trainingdata.sqft_living, House_Sales_trainingdata.price, color='blue')\n",
    "ax1.scatter(House_Sales_testdata.sqft_living, House_Sales_testdata.price, color='red')\n",
    "plt.plot(House_Sales_trainingdata.sqft_living, regr.coef_[0][0]*House_Sales_trainingdata.sqft_living + regr.coef_[0][1]*House_Sales_trainingdata.bedrooms[50] + regr.coef_[0][2]*House_Sales_trainingdata.bathrooms[2] + regr.coef_[0][3]*House_Sales_trainingdata.lat[5] + regr.coef_[0][4]*House_Sales_trainingdata.long[10] + regr.coef_[0][5]*House_Sales_trainingdata.bed_bath_rooms[50] + regr.coef_[0][6]*House_Sales_trainingdata.bedrooms_squared[100] + regr.coef_[0][7]*House_Sales_trainingdata.log_sqft_living[20] + regr.coef_[0][8]*House_Sales_trainingdata.lat_plus_long[50] + regr.intercept_[0], '-g')\n",
    "\n",
    "\n",
    "\n",
    "plt.show()"
   ]
  },
  {
   "cell_type": "code",
   "execution_count": null,
   "id": "ef87f651",
   "metadata": {},
   "outputs": [],
   "source": []
  }
 ],
 "metadata": {
  "kernelspec": {
   "display_name": "Python 3 (ipykernel)",
   "language": "python",
   "name": "python3"
  },
  "language_info": {
   "codemirror_mode": {
    "name": "ipython",
    "version": 3
   },
   "file_extension": ".py",
   "mimetype": "text/x-python",
   "name": "python",
   "nbconvert_exporter": "python",
   "pygments_lexer": "ipython3",
   "version": "3.9.13"
  }
 },
 "nbformat": 4,
 "nbformat_minor": 5
}
