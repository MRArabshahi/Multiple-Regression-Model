{
  "nbformat": 4,
  "nbformat_minor": 0,
  "metadata": {
    "colab": {
      "provenance": [],
      "authorship_tag": "ABX9TyPXmPgyjWPB6O+zsZRuULcl",
      "include_colab_link": true
    },
    "kernelspec": {
      "name": "python3",
      "display_name": "Python 3"
    },
    "language_info": {
      "name": "python"
    }
  },
  "cells": [
    {
      "cell_type": "markdown",
      "metadata": {
        "id": "view-in-github",
        "colab_type": "text"
      },
      "source": [
        "<a href=\"https://colab.research.google.com/github/MRArabshahi/Multiple-Regression-Model/blob/main/S1.ipynb\" target=\"_parent\"><img src=\"https://colab.research.google.com/assets/colab-badge.svg\" alt=\"Open In Colab\"/></a>"
      ]
    },
    {
      "cell_type": "code",
      "execution_count": 42,
      "metadata": {
        "id": "cPBCcIT47kz-"
      },
      "outputs": [],
      "source": [
        "import numpy as np\n",
        "from scipy import signal\n",
        "import matplotlib.pyplot as plt"
      ]
    },
    {
      "cell_type": "code",
      "source": [
        "N = np.arange(-3, 11, 1)\n",
        "print(N)\n",
        "type(N)"
      ],
      "metadata": {
        "colab": {
          "base_uri": "https://localhost:8080/"
        },
        "id": "-T-cQ0jZ-mTV",
        "outputId": "e9178f54-bc31-457d-ad0e-a49deece28b3"
      },
      "execution_count": 43,
      "outputs": [
        {
          "output_type": "stream",
          "name": "stdout",
          "text": [
            "[-3 -2 -1  0  1  2  3  4  5  6  7  8  9 10]\n"
          ]
        },
        {
          "output_type": "execute_result",
          "data": {
            "text/plain": [
              "numpy.ndarray"
            ]
          },
          "metadata": {},
          "execution_count": 43
        }
      ]
    },
    {
      "cell_type": "code",
      "source": [
        "# Define the delta function\n",
        "def delta(n):\n",
        "    return np.where(n == 0, 1, 0)"
      ],
      "metadata": {
        "id": "5TsHS0_ABOA6"
      },
      "execution_count": 1,
      "outputs": []
    },
    {
      "cell_type": "code",
      "source": [
        "# Define the unit step function\n",
        "def unit_step(n):\n",
        "    return np.where(n >= 0, 1, 0)"
      ],
      "metadata": {
        "id": "HvnpGnOeKMWr"
      },
      "execution_count": 45,
      "outputs": []
    },
    {
      "cell_type": "code",
      "source": [
        "d1 = delta(N+1)\n",
        "d2 = delta(N-2)\n",
        "d3 = unit_step(N-1)\n",
        "dtot = d1 + d2 + d3\n",
        "# Plotting the delta function\n",
        "plt.stem(N, dtot, use_line_collection=True)\n",
        "plt.title(\"Delta Function\")\n",
        "plt.xlabel(\"N\")\n",
        "plt.ylabel(\"dtot\")\n",
        "plt.grid(True)\n",
        "plt.show()"
      ],
      "metadata": {
        "colab": {
          "base_uri": "https://localhost:8080/",
          "height": 528
        },
        "id": "pB9Wn36yJvxE",
        "outputId": "c3c5d1b5-1b61-4ec6-ef16-25ed17bf674e"
      },
      "execution_count": 49,
      "outputs": [
        {
          "output_type": "stream",
          "name": "stderr",
          "text": [
            "<ipython-input-49-24af8cbb2ad5>:6: MatplotlibDeprecationWarning: The 'use_line_collection' parameter of stem() was deprecated in Matplotlib 3.6 and will be removed two minor releases later. If any parameter follows 'use_line_collection', they should be passed as keyword, not positionally.\n",
            "  plt.stem(N, dtot, use_line_collection=True)\n"
          ]
        },
        {
          "output_type": "display_data",
          "data": {
            "text/plain": [
              "<Figure size 640x480 with 1 Axes>"
            ],
            "image/png": "[encoded data removed]"
          },
          "metadata": {}
        }
      ]
    }
  ]
}